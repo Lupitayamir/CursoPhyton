{
  "nbformat": 4,
  "nbformat_minor": 0,
  "metadata": {
    "colab": {
      "provenance": [],
      "authorship_tag": "ABX9TyM06F5sL8T+4oEByRWhzMXA",
      "include_colab_link": true
    },
    "kernelspec": {
      "name": "python3",
      "display_name": "Python 3"
    },
    "language_info": {
      "name": "python"
    }
  },
  "cells": [
    {
      "cell_type": "markdown",
      "metadata": {
        "id": "view-in-github",
        "colab_type": "text"
      },
      "source": [
        "<a href=\"https://colab.research.google.com/github/Lupitayamir/CursoPhyton/blob/main/Copia_de_Ejercicio_proyecto_2_2_ipynb.ipynb\" target=\"_parent\"><img src=\"https://colab.research.google.com/assets/colab-badge.svg\" alt=\"Open In Colab\"/></a>"
      ]
    },
    {
      "cell_type": "code",
      "execution_count": null,
      "metadata": {
        "id": "hYx_0-4eMKN0"
      },
      "outputs": [],
      "source": [
        "import json\n",
        "import requests\n",
        "\n",
        "def currency_search(cur):\n",
        "    r = requests.get(\"http://www.floatrates.com/daily/{}.json\".format(cur))\n",
        "    return r.text"
      ]
    },
    {
      "cell_type": "code",
      "source": [],
      "metadata": {
        "colab": {
          "base_uri": "https://localhost:8080/"
        },
        "id": "h3dwIG_xMQNQ",
        "outputId": "110a8251-1a6f-4249-b06f-40ca72892eb5"
      },
      "execution_count": null,
      "outputs": [
        {
          "output_type": "stream",
          "name": "stdout",
          "text": [
            "¡Hola! Bienvenido al convertidor de divisas.\n",
            "Para salir del programa, simplemente presiona Enter en lugar de introducir el código de la divisa.\n",
            "¿Qué divisa quieres usar como divisa de origen (USD, MXN u otra)? MXN\n",
            "Datos de tipo de cambio para MXN descargados exitosamente.\n"
          ]
        }
      ]
    },
    {
      "cell_type": "code",
      "source": [
        "while True:\n",
        "    target_currency = input(\"¿A qué divisa quieres convertir (presiona Enter para salir)? \").upper()\n",
        "\n",
        "    if not target_currency:\n",
        "        break\n",
        "\n",
        "    if target_currency.lower() in exchange_rates:\n",
        "        try:\n",
        "            amount_to_convert = float(input(f\"Ingresa la cantidad en {source_currency} que quieres convertir: \"))\n",
        "            exchange_rate = exchange_rates[target_currency.lower()]['rate']\n",
        "            converted_amount = amount_to_convert * exchange_rate\n",
        "            print(f\"{amount_to_convert:.2f} {source_currency} es igual a {converted_amount:.2f} {target_currency}\")\n",
        "        except ValueError:\n",
        "            print(\"Entrada no válida. Por favor, introduce un valor numérico para la cantidad.\")\n",
        "    else:\n",
        "        print(f\"La divisa de destino '{target_currency}' no se encontró en los datos de tipo de cambio.\")\n",
        "\n",
        "print(\"Gracias por usar el convertidor de divisas.\")"
      ],
      "metadata": {
        "colab": {
          "base_uri": "https://localhost:8080/"
        },
        "id": "PB5UCStHTNM_",
        "outputId": "426afe45-3286-4022-9ba3-b4725f20fdb4"
      },
      "execution_count": null,
      "outputs": [
        {
          "output_type": "stream",
          "name": "stdout",
          "text": [
            "¿A qué divisa quieres convertir (presiona Enter para salir)? EUR\n",
            "Ingresa la cantidad en MXN que quieres convertir: 100\n",
            "100.00 MXN es igual a 4.68 EUR\n",
            "¿A qué divisa quieres convertir (presiona Enter para salir)? DLS\n",
            "La divisa de destino 'DLS' no se encontró en los datos de tipo de cambio.\n",
            "¿A qué divisa quieres convertir (presiona Enter para salir)? 1000\n",
            "La divisa de destino '1000' no se encontró en los datos de tipo de cambio.\n",
            "¿A qué divisa quieres convertir (presiona Enter para salir)? RUBLOS\n",
            "La divisa de destino 'RUBLOS' no se encontró en los datos de tipo de cambio.\n",
            "¿A qué divisa quieres convertir (presiona Enter para salir)? RUB\n",
            "Ingresa la cantidad en MXN que quieres convertir: 1000\n",
            "1000.00 MXN es igual a 4441.27 RUB\n",
            "¿A qué divisa quieres convertir (presiona Enter para salir)? GTP\n",
            "La divisa de destino 'GTP' no se encontró en los datos de tipo de cambio.\n",
            "¿A qué divisa quieres convertir (presiona Enter para salir)? DLS\n",
            "La divisa de destino 'DLS' no se encontró en los datos de tipo de cambio.\n",
            "¿A qué divisa quieres convertir (presiona Enter para salir)? DOSCIENTOS\n",
            "La divisa de destino 'DOSCIENTOS' no se encontró en los datos de tipo de cambio.\n",
            "¿A qué divisa quieres convertir (presiona Enter para salir)? 200\n",
            "La divisa de destino '200' no se encontró en los datos de tipo de cambio.\n",
            "¿A qué divisa quieres convertir (presiona Enter para salir)? MXN\n",
            "La divisa de destino 'MXN' no se encontró en los datos de tipo de cambio.\n",
            "¿A qué divisa quieres convertir (presiona Enter para salir)? LIB\n",
            "La divisa de destino 'LIB' no se encontró en los datos de tipo de cambio.\n"
          ]
        }
      ]
    }
  ]
}