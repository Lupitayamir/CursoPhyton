{
  "nbformat": 4,
  "nbformat_minor": 0,
  "metadata": {
    "colab": {
      "provenance": [],
      "authorship_tag": "ABX9TyMdx8oL8BmvG95NSJznyBO0",
      "include_colab_link": true
    },
    "kernelspec": {
      "name": "python3",
      "display_name": "Python 3"
    },
    "language_info": {
      "name": "python"
    }
  },
  "cells": [
    {
      "cell_type": "markdown",
      "metadata": {
        "id": "view-in-github",
        "colab_type": "text"
      },
      "source": [
        "<a href=\"https://colab.research.google.com/github/Lupitayamir/CursoPhyton/blob/main/Actividad_2.ipynb\" target=\"_parent\"><img src=\"https://colab.research.google.com/assets/colab-badge.svg\" alt=\"Open In Colab\"/></a>"
      ]
    },
    {
      "cell_type": "markdown",
      "source": [
        "Actividad_2. Uso de Google Drive en Combinación con Google Colab\n",
        "\n",
        "María Guadalupe López Pedroza\n",
        "\n",
        "Campus: CUCSH\n",
        "\n",
        "Fecha: 17 de octubre 2025"
      ],
      "metadata": {
        "id": "vaExbFtmxl3v"
      }
    },
    {
      "cell_type": "code",
      "execution_count": null,
      "metadata": {
        "colab": {
          "base_uri": "https://localhost:8080/"
        },
        "id": "AFEkw8ZTxQwf",
        "outputId": "b150b84d-b834-48af-90d5-923ba9bcd689"
      },
      "outputs": [
        {
          "output_type": "stream",
          "name": "stdout",
          "text": [
            "Fecha y hora (UTC): 2025-10-18 00:46\n"
          ]
        }
      ],
      "source": [
        "import datetime\n",
        "# Hora (Tiempo universal, coordinado, UTC) y fecha\n",
        "now = datetime.datetime.now()\n",
        "print(f\"Fecha y hora (UTC): {now.strftime('%Y-%m-%d %H:%M')}\")\n",
        "\n"
      ]
    },
    {
      "cell_type": "code",
      "source": [
        "from google.colab import drive\n",
        "drive.mount('/content/drive')"
      ],
      "metadata": {
        "colab": {
          "base_uri": "https://localhost:8080/"
        },
        "id": "xz8eD-fS3t2A",
        "outputId": "a1f8a119-3e38-4d4d-be49-eed300940a81"
      },
      "execution_count": null,
      "outputs": [
        {
          "output_type": "stream",
          "name": "stdout",
          "text": [
            "Mounted at /content/drive\n"
          ]
        }
      ]
    },
    {
      "cell_type": "code",
      "source": [
        "path ='/content/drive/MyDrive/Colab Data/'\n",
        "file = 'texto_Bienvenidos.txt'\n",
        "\n",
        "with open(path + file, 'r') as f:\n",
        "  d = f.read()\n",
        "  print(d)"
      ],
      "metadata": {
        "colab": {
          "base_uri": "https://localhost:8080/"
        },
        "id": "sV2L8oba62Qd",
        "outputId": "594c1852-f7a1-4d66-9223-a41fd152c994"
      },
      "execution_count": null,
      "outputs": [
        {
          "output_type": "stream",
          "name": "stdout",
          "text": [
            "¡Bienvenidos al Curso de Análisis y Visualización de datos con Python en la nube!\n",
            "\n",
            "Profesor Viacheslav Shalisko\n"
          ]
        }
      ]
    }
  ]
}