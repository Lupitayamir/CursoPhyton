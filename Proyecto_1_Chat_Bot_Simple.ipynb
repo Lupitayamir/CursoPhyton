{
  "nbformat": 4,
  "nbformat_minor": 0,
  "metadata": {
    "colab": {
      "provenance": [],
      "authorship_tag": "ABX9TyMJ22/8tVXfCbhIs7Y2K9K1",
      "include_colab_link": true
    },
    "kernelspec": {
      "name": "python3",
      "display_name": "Python 3"
    },
    "language_info": {
      "name": "python"
    }
  },
  "cells": [
    {
      "cell_type": "markdown",
      "metadata": {
        "id": "view-in-github",
        "colab_type": "text"
      },
      "source": [
        "<a href=\"https://colab.research.google.com/github/Lupitayamir/CursoPhyton/blob/main/Proyecto_1_Chat_Bot_Simple.ipynb\" target=\"_parent\"><img src=\"https://colab.research.google.com/assets/colab-badge.svg\" alt=\"Open In Colab\"/></a>"
      ]
    },
    {
      "cell_type": "markdown",
      "source": [
        "Proyecto 1. Chat Bot Simple\n",
        "\n",
        "Curso Análisis y visualización de datos con Python en la nube\n",
        "\n",
        "24 octubre 2025\n",
        "\n",
        "María Guadalupe López Pedroza\n",
        "\n",
        "CUCSH\n"
      ],
      "metadata": {
        "id": "nXO8Nrg5KnUl"
      }
    },
    {
      "cell_type": "markdown",
      "source": [
        "# Saludo al usuario\n",
        "\n",
        "Para realizar este apartado se requiere usar las funciones print(), input(), str(), además, se requiere conocer la operación para concatenar las cadenas de texto."
      ],
      "metadata": {
        "id": "fLgAhd90LQMB"
      }
    },
    {
      "cell_type": "code",
      "source": [
        "\n",
        "print('¡Hola! Soy un ChatBot.')\n",
        "print('Me crearon en 2025 como parte de un ejercicio.')\n",
        "print('¿Y tu nombre cual es?')\n",
        "nombre_usuario = str(input())\n",
        "print('¡Me encanta tu nombre, ' + nombre_usuario + \"!\")"
      ],
      "metadata": {
        "colab": {
          "base_uri": "https://localhost:8080/"
        },
        "id": "Wg40AB_cLb4Q",
        "outputId": "100c4ab4-3ec2-43ec-9892-39b5bee6c699"
      },
      "execution_count": 14,
      "outputs": [
        {
          "output_type": "stream",
          "name": "stdout",
          "text": [
            "¡Hola! Soy un ChatBot.\n",
            "Me crearon en 2025 como parte de un ejercicio.\n",
            "¿Y tu nombre cual es?\n",
            "Guadalupe\n",
            "¡Me encanta tu nombre, Guadalupe!\n"
          ]
        }
      ]
    },
    {
      "cell_type": "markdown",
      "source": [
        "# Adivinar edad de un personaje ficticio\n",
        "\n",
        "Para lograrlo vamos a hacer algunas preguntas\n",
        "\n",
        "Cual es el residuo de división de su edad entre 3\n",
        "\n",
        "Cual es el residuo de división de su edad entre 5\n",
        "\n",
        "Cual es el residuo de división de su edad entre 7\n",
        "\n",
        "Estos valores se puede anotar de siguiente manera:\n",
        "•\tresiduo3 = Edad mod 3\n",
        "•\tresiduo5 = Edad mod 5\n",
        "•\tresiduo7 = Edad mod 7\n",
        "\n",
        "Posterior a conocer estos tres valores, vamos a calcular probable edad de este personaje ficticio utilizando una formula:\n",
        "\n",
        "Edad = (residuo3*70+residuo5*21+residuo7*15) mod 105\n",
        "\n",
        "Para realizar este apartado se requiere usar las funciones print(), input(), int(), se requiere conocer las operación matematicas con los números enteros, incluyendo el operador módulo % que permite calcular el remanente de la división. Además, se requiere conocer como podemos definir una función y llamarla."
      ],
      "metadata": {
        "id": "2Fkw71N0LwX-"
      }
    },
    {
      "cell_type": "markdown",
      "metadata": {
        "id": "46599cd3"
      },
      "source": [
        "# Adivinar edad de un personaje ficticio\n",
        "\n",
        "Para lograrlo vamos a hacer algunas preguntas\n",
        "\n",
        "Cual es el residuo de división de su edad entre 3\n",
        "\n",
        "Cual es el residuo de división de su edad entre 5\n",
        "\n",
        "Cual es el residuo de división de su edad entre 7\n",
        "\n",
        "Estos valores se puede anotar de siguiente manera:\n",
        "•       residuo₃ = Edad mod 3\n",
        "•       residuo₅ = Edad mod 5\n",
        "•       residuo₇ = Edad mod 7\n",
        "\n",
        "Posterior a conocer estos tres valores, vamos a calcular probable edad de este personaje ficticio utilizando una formula:\n",
        "\n",
        "Edad = (residuo₃*70+residuo₅*21+residuo₇*15) mod 105\n",
        "\n",
        "Para realizar este apartado se requiere usar las funciones print(), input(), int(), se requiere conocer las operación matematicas con los números enteros, incluyendo el operador módulo % que permite calcular el remanente de la división. Además, se requiere conocer como podemos definir una función y llamarla."
      ]
    },
    {
      "cell_type": "code",
      "source": [
        "def adivinar_edad():\n",
        "    print('Imagina un personaje humano. Debes conocer su edad. Me gustaría adivinar la edad de este personaje ficticio, ' + nombre_usuario + '.')\n",
        "    print('Para ello, te voy a hacer tres preguntas:')\n",
        "\n",
        "    rem3 = int(input('¿Cuál es el residuo de la división de su edad entre 3?\\n'))\n",
        "    rem5 = int(input('¿Cuál es el residuo de la división de su edad entre 5?\\n'))\n",
        "    rem7 = int(input('¿Cuál es el residuo de la división de su edad entre 7?\\n'))\n",
        "    age = (rem3 * 70 + rem5 * 21 + rem7 * 15) % 105\n",
        "\n",
        "    print(\"Creo que su edad es \" + str(age) + \" años. ¡Espero no haberme equivocado!\")\n",
        "\n",
        "adivinar_edad()"
      ],
      "metadata": {
        "colab": {
          "base_uri": "https://localhost:8080/"
        },
        "id": "uD3oQ0pzhp4b",
        "outputId": "d5582016-5da4-4ac5-8446-571e0a2d5672"
      },
      "execution_count": 24,
      "outputs": [
        {
          "output_type": "stream",
          "name": "stdout",
          "text": [
            "Imagina un personaje humano. Debes conocer su edad. Me gustaría adivinar la edad de este personaje ficticio, Guadalupe.\n",
            "Para ello, te voy a hacer tres preguntas:\n",
            "¿Cuál es el residuo de la división de su edad entre 3?\n",
            "3\n",
            "¿Cuál es el residuo de la división de su edad entre 5?\n",
            "4\n",
            "¿Cuál es el residuo de la división de su edad entre 7?\n",
            "5\n",
            "Creo que su edad es 54 años. ¡Espero no haberme equivocado!\n"
          ]
        }
      ]
    },
    {
      "cell_type": "markdown",
      "source": [
        "# Ahora vamos a interactuar con el usuario por medio de una pregunta de opción multiple\n",
        "\n",
        "Vamos a formular la pregunta\n",
        "Vamos a presentar las opciones de la respuesta\n",
        "Vamos a solicitar al usuario elegir la respuesta\n",
        "Vamos a comprobar la respuesta del usuario cotra la correcta\n",
        "Vamos a informar el usuario sobre el resultado de elección, y en caso que la respuesta no es correcta, lo vamos a pedir introducir la respuesta otra vez\n",
        "Repetimos paso 5 hasta que la respuesta es correcta"
      ],
      "metadata": {
        "id": "x8FZqteuiPqL"
      }
    },
    {
      "cell_type": "code",
      "source": [
        "def test():\n",
        "    print(\"¿Cuál de las siguientes afirmaciones es correcta sobre la ciudad de Guadalajara?\")\n",
        "    print('Para responder la pregunta escribe el número de una de las siguientes respuestas:')\n",
        "    print('1. Es la capital del estado de Guanajuato.')\n",
        "    print('2. Es conocida como la \"Perla Tapatía\".')\n",
        "    print('3. Fue fundada en 1921.')\n",
        "    print('4. Está ubicada en la península de Yucatán.')\n",
        "    respuesta = int(input())\n",
        "    while respuesta != 2:\n",
        "        print('Respuesta incorrecta, intente otra vez.')\n",
        "        respuesta = int(input())\n",
        "    print(\"Muy bien, \" + nombre_usuario + \"! Su respuesta fue correcta.\")\n",
        "\n",
        "test()"
      ],
      "metadata": {
        "colab": {
          "base_uri": "https://localhost:8080/"
        },
        "id": "wrKnX_C_iarc",
        "outputId": "d6cd0c39-28a4-4218-a4d8-e361ba927415"
      },
      "execution_count": 25,
      "outputs": [
        {
          "output_type": "stream",
          "name": "stdout",
          "text": [
            "¿Cuál de las siguientes afirmaciones es correcta sobre la ciudad de Guadalajara?\n",
            "Para responder la pregunta escribe el número de una de las siguientes respuestas:\n",
            "1. Es la capital del estado de Guanajuato.\n",
            "2. Es conocida como la \"Perla Tapatía\".\n",
            "3. Fue fundada en 1921.\n",
            "4. Está ubicada en la península de Yucatán.\n",
            "2\n",
            "Muy bien, Guadalupe! Su respuesta fue correcta.\n"
          ]
        }
      ]
    },
    {
      "cell_type": "markdown",
      "source": [
        "# Despedida"
      ],
      "metadata": {
        "id": "KoN4cNwBimkh"
      }
    },
    {
      "cell_type": "code",
      "source": [
        "print('Hasta la proxima, ' +  nombre_usuario + '!')"
      ],
      "metadata": {
        "colab": {
          "base_uri": "https://localhost:8080/"
        },
        "id": "tFFr4BPqiq9n",
        "outputId": "7bde6709-bd16-4152-b048-0cec9a3413a7"
      },
      "execution_count": 27,
      "outputs": [
        {
          "output_type": "stream",
          "name": "stdout",
          "text": [
            "Hasta la proxima, Guadalupe!\n"
          ]
        }
      ]
    }
  ]
}