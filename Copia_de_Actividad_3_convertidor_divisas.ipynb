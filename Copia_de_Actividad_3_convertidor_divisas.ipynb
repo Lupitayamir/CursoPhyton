{
  "nbformat": 4,
  "nbformat_minor": 0,
  "metadata": {
    "colab": {
      "provenance": [],
      "authorship_tag": "ABX9TyPiMrYqfPlwLe2qveGu4qXo",
      "include_colab_link": true
    },
    "kernelspec": {
      "name": "python3",
      "display_name": "Python 3"
    },
    "language_info": {
      "name": "python"
    }
  },
  "cells": [
    {
      "cell_type": "markdown",
      "metadata": {
        "id": "view-in-github",
        "colab_type": "text"
      },
      "source": [
        "<a href=\"https://colab.research.google.com/github/Lupitayamir/CursoPhyton/blob/main/Copia_de_Actividad_3_convertidor_divisas.ipynb\" target=\"_parent\"><img src=\"https://colab.research.google.com/assets/colab-badge.svg\" alt=\"Open In Colab\"/></a>"
      ]
    },
    {
      "cell_type": "markdown",
      "source": [
        "Actividad 3. Convertidor de divisas\n",
        "\n",
        "23 octubre 2025\n",
        "\n",
        "Análisis y visualización de datos con Python en la nube\n",
        "\n",
        "María Guadalupe López Pedroza\n",
        "\n",
        "CUCSH"
      ],
      "metadata": {
        "id": "aTAdzpJidU73"
      }
    },
    {
      "cell_type": "code",
      "source": [
        "import json\n",
        "import requests\n",
        "\n",
        "def currency_search(cur):\n",
        "    r = requests.get(\"http://www.floatrates.com/daily/{}.json\".format(cur))\n",
        "    return r.text\n"
      ],
      "metadata": {
        "id": "n1vISEe3BG0O"
      },
      "execution_count": null,
      "outputs": []
    },
    {
      "cell_type": "code",
      "source": [
        "print(\"\"\"\n",
        "Es un convertidor de divisas.\n",
        "Introduce el código de tres letras de la divisa inicial (por ejemplo, MXN),\n",
        "código de divisa destino (por ejemplo, USD) y la cantidad que pretendes convertir.\n",
        "El resultado será la cantidad en la divisa destino.\n",
        "Si quieres salir de programa, solo pulsa la tecla Enter al momento de especificar\n",
        "la divisa.\n",
        "¡Suerte en tus conversiones!\n",
        "------------------------------------------------------------------------------\n",
        "\"\"\")\n",
        "\n",
        "exchange_dict = ()\n",
        "my_currency = str(input(\"Divisa inicial: \"))\n",
        "my_currency = my_currency.lower()\n",
        "if my_currency == \"\":\n",
        "  print(\"¡Adios!\")\n",
        "else:\n",
        "  try:\n",
        "    exchange_file = currency_search(my_currency)\n",
        "    exchange_dict = json.loads(exchange_file)\n",
        "    #print(json.dumps(exchange_dict, indent=4))\n",
        "    print(\"Divisa se encontro en la base de datos, podemos trabajar\")\n",
        "  except:\n",
        "    print(\"Divisa no encontrada\")"
      ],
      "metadata": {
        "colab": {
          "base_uri": "https://localhost:8080/"
        },
        "id": "IaIOAHqRBO6d",
        "outputId": "d5205491-5def-42d2-b974-0ee5f3ff81cb"
      },
      "execution_count": null,
      "outputs": [
        {
          "output_type": "stream",
          "name": "stdout",
          "text": [
            "\n",
            "Es un convertidor de divisas.\n",
            "Introduce el código de tres letras de la divisa inicial (por ejemplo, MXN),\n",
            "código de divisa destino (por ejemplo, USD) y la cantidad que pretendes convertir.\n",
            "El resultado será la cantidad en la divisa destino.\n",
            "Si quieres salir de programa, solo pulsa la tecla Enter al momento de especificar\n",
            "la divisa.\n",
            "¡Suerte en tus conversiones!\n",
            "------------------------------------------------------------------------------\n",
            "\n",
            "Divisa inicial: MXN\n",
            "Divisa se encontro en la base de datos, podemos trabajar\n"
          ]
        }
      ]
    },
    {
      "cell_type": "code",
      "source": [
        "while exchange_dict:\n",
        "    target = str(input(\"\\nDivisa destino: \"))\n",
        "    if target == \"\":\n",
        "        print(\"¡Adios!\")\n",
        "        break\n",
        "    target = target.lower()\n",
        "    try:\n",
        "      cambio = exchange_dict[target][\"rate\"]\n",
        "    except:\n",
        "      print(\"Divisa no encontrada\")\n",
        "      continue\n",
        "    try:\n",
        "      amount = float(input(f\"Cantidad de dinero por convertir ({my_currency.upper()}): \"))\n",
        "    except:\n",
        "      print(\"Cantidad introducida no es valida\")\n",
        "      continue\n",
        "\n",
        "    target_amount = cambio * amount\n",
        "    print(\"Resultado de conversión: {} {}.\".format(round(target_amount, 2), target.upper()))\n"
      ],
      "metadata": {
        "colab": {
          "base_uri": "https://localhost:8080/"
        },
        "id": "CrBym5WqBh-e",
        "outputId": "46599fe1-8658-4d98-fd55-259eef37338d"
      },
      "execution_count": null,
      "outputs": [
        {
          "output_type": "stream",
          "name": "stdout",
          "text": [
            "\n",
            "Divisa destino: MXN\n",
            "Divisa no encontrada\n",
            "\n",
            "Divisa destino: USD\n",
            "Cantidad de dinero por convertir (MXN): 100\n",
            "Resultado de conversión: 5.44 USD.\n",
            "\n",
            "Divisa destino: 200\n",
            "Divisa no encontrada\n",
            "\n",
            "Divisa destino: RUB\n",
            "Cantidad de dinero por convertir (MXN): 100\n",
            "Resultado de conversión: 442.72 RUB.\n",
            "\n",
            "Divisa destino: USD\n",
            "Cantidad de dinero por convertir (MXN): KK\n",
            "Cantidad introducida no es valida\n",
            "\n",
            "Divisa destino: \n",
            "¡Adios!\n"
          ]
        }
      ]
    }
  ]
}